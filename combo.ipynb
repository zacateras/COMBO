{
 "cells": [
  {
   "cell_type": "code",
   "execution_count": 1,
   "metadata": {
    "colab": {
     "base_uri": "https://localhost:8080/",
     "height": 34
    },
    "colab_type": "code",
    "id": "ofumLAH8pm7B",
    "outputId": "9b9a7db5-c4b3-4744-b429-efa9342da681"
   },
   "outputs": [
    {
     "data": {
      "text/plain": [
       "'3.6.8 (v3.6.8:3c6b436a57, Dec 24 2018, 02:04:31) \\n[GCC 4.2.1 Compatible Apple LLVM 6.0 (clang-600.0.57)]'"
      ]
     },
     "execution_count": 1,
     "metadata": {},
     "output_type": "execute_result"
    }
   ],
   "source": [
    "import sys\n",
    "sys.version"
   ]
  },
  {
   "cell_type": "code",
   "execution_count": 2,
   "metadata": {
    "colab": {
     "base_uri": "https://localhost:8080/",
     "height": 34
    },
    "colab_type": "code",
    "id": "CHMstwceqXzn",
    "outputId": "2fa84235-7499-4b91-97c5-362e946811bc"
   },
   "outputs": [
    {
     "name": "stderr",
     "output_type": "stream",
     "text": [
      "/Users/sitkom/Code/COMBO/.venv3.6/lib/python3.6/importlib/_bootstrap.py:219: RuntimeWarning: compiletime version 3.5 of module 'tensorflow.python.framework.fast_tensor_util' does not match runtime version 3.6\n",
      "  return f(*args, **kwds)\n"
     ]
    },
    {
     "data": {
      "text/plain": [
       "''"
      ]
     },
     "execution_count": 2,
     "metadata": {},
     "output_type": "execute_result"
    }
   ],
   "source": [
    "import tensorflow as tf\n",
    "tf.test.gpu_device_name()"
   ]
  },
  {
   "cell_type": "code",
   "execution_count": 3,
   "metadata": {
    "colab": {
     "base_uri": "https://localhost:8080/",
     "height": 476
    },
    "colab_type": "code",
    "id": "1jbLBLBMqc97",
    "outputId": "b2153113-f9e7-425a-e74c-998776220e91"
   },
   "outputs": [
    {
     "data": {
      "text/plain": [
       "[name: \"/device:CPU:0\"\n",
       " device_type: \"CPU\"\n",
       " memory_limit: 268435456\n",
       " locality {\n",
       " }\n",
       " incarnation: 16743939301427524611]"
      ]
     },
     "execution_count": 3,
     "metadata": {},
     "output_type": "execute_result"
    }
   ],
   "source": [
    "from tensorflow.python.client import device_lib\n",
    "device_lib.list_local_devices()"
   ]
  },
  {
   "cell_type": "code",
   "execution_count": 3,
   "metadata": {
    "colab": {
     "base_uri": "https://localhost:8080/",
     "height": 119
    },
    "colab_type": "code",
    "id": "-KPCR5L4q0Y6",
    "outputId": "797b72ff-9bf7-47c6-f98f-9bfa0771f8ca"
   },
   "outputs": [
    {
     "name": "stdout",
     "output_type": "stream",
     "text": [
      "Cloning into 'COMBO'...\n",
      "remote: Enumerating objects: 8, done.\u001b[K\n",
      "remote: Counting objects: 100% (8/8), done.\u001b[K\n",
      "remote: Compressing objects: 100% (6/6), done.\u001b[K\n",
      "remote: Total 45 (delta 2), reused 6 (delta 2), pack-reused 37\u001b[K\n",
      "Unpacking objects: 100% (45/45), done.\n"
     ]
    }
   ],
   "source": [
    "! git clone https://github.com/zacateras/COMBO.git\n",
    "% cd COMBO\n",
    "! pip install -r requirements.txt > pip.log"
   ]
  },
  {
   "cell_type": "code",
   "execution_count": 2,
   "metadata": {
    "colab": {
     "base_uri": "https://localhost:8080/",
     "height": 34
    },
    "colab_type": "code",
    "id": "b4hzfSLVrIUf",
    "outputId": "7cfced7b-b1cb-4d78-ed36-7025dc3d45e2"
   },
   "outputs": [
    {
     "name": "stdout",
     "output_type": "stream",
     "text": [
      "/content/COMBO\n"
     ]
    }
   ],
   "source": [
    "% cd COMBO/"
   ]
  },
  {
   "cell_type": "code",
   "execution_count": 3,
   "metadata": {
    "colab": {
     "base_uri": "https://localhost:8080/",
     "height": 170
    },
    "colab_type": "code",
    "id": "no3-Aeqxz8Ja",
    "outputId": "cae44357-8396-40f6-9a83-cf331642c768"
   },
   "outputs": [
    {
     "name": "stdout",
     "output_type": "stream",
     "text": [
      "Requirement already satisfied: tensorboard in /usr/local/lib/python3.6/dist-packages (1.12.2)\n",
      "Requirement already satisfied: wheel>=0.26; python_version >= \"3\" in /usr/local/lib/python3.6/dist-packages (from tensorboard) (0.32.3)\n",
      "Requirement already satisfied: six>=1.10.0 in /usr/local/lib/python3.6/dist-packages (from tensorboard) (1.11.0)\n",
      "Requirement already satisfied: markdown>=2.6.8 in /usr/local/lib/python3.6/dist-packages (from tensorboard) (3.0.1)\n",
      "Requirement already satisfied: numpy>=1.12.0 in /usr/local/lib/python3.6/dist-packages (from tensorboard) (1.14.6)\n",
      "Requirement already satisfied: werkzeug>=0.11.10 in /usr/local/lib/python3.6/dist-packages (from tensorboard) (0.14.1)\n",
      "Requirement already satisfied: grpcio>=1.6.3 in /usr/local/lib/python3.6/dist-packages (from tensorboard) (1.15.0)\n",
      "Requirement already satisfied: protobuf>=3.4.0 in /usr/local/lib/python3.6/dist-packages (from tensorboard) (3.6.1)\n",
      "Requirement already satisfied: setuptools in /usr/local/lib/python3.6/dist-packages (from protobuf>=3.4.0->tensorboard) (40.8.0)\n"
     ]
    }
   ],
   "source": [
    "! pip install tensorboard"
   ]
  },
  {
   "cell_type": "code",
   "execution_count": 4,
   "metadata": {
    "colab": {
     "base_uri": "https://localhost:8080/",
     "height": 255
    },
    "colab_type": "code",
    "id": "8M021Z-vrKT1",
    "outputId": "777ff941-dcaa-4d8f-e64f-363a2ff0269e"
   },
   "outputs": [
    {
     "name": "stdout",
     "output_type": "stream",
     "text": [
      "--2019-02-09 19:53:03--  https://bin.equinox.io/c/4VmDzA7iaHb/ngrok-stable-linux-amd64.zip\n",
      "Resolving bin.equinox.io (bin.equinox.io)... 34.232.40.183, 34.232.181.106, 34.206.9.96, ...\n",
      "Connecting to bin.equinox.io (bin.equinox.io)|34.232.40.183|:443... connected.\n",
      "HTTP request sent, awaiting response... 200 OK\n",
      "Length: 5363700 (5.1M) [application/octet-stream]\n",
      "Saving to: ‘ngrok-stable-linux-amd64.zip’\n",
      "\n",
      "\r",
      "          ngrok-sta   0%[                    ]       0  --.-KB/s               \r",
      "         ngrok-stab  28%[====>               ]   1.44M  7.15MB/s               \r",
      "ngrok-stable-linux- 100%[===================>]   5.11M  21.5MB/s    in 0.2s    \n",
      "\n",
      "2019-02-09 19:53:03 (21.5 MB/s) - ‘ngrok-stable-linux-amd64.zip’ saved [5363700/5363700]\n",
      "\n",
      "Archive:  ngrok-stable-linux-amd64.zip\n",
      "  inflating: ngrok                   \n",
      "https://48c38453.ngrok.io\n"
     ]
    }
   ],
   "source": [
    "! wget https://bin.equinox.io/c/4VmDzA7iaHb/ngrok-stable-linux-amd64.zip\n",
    "! unzip ngrok-stable-linux-amd64.zip\n",
    "! rm ngrok-stable-linux-amd64.zip\n",
    "\n",
    "LOG_DIR = './log'\n",
    "get_ipython().system_raw(\n",
    "    'tensorboard --logdir {} --host 0.0.0.0 --port 6006 &'\n",
    "    .format(LOG_DIR)\n",
    ")\n",
    "\n",
    "get_ipython().system_raw('./ngrok http 6006 &')\n",
    "\n",
    "! curl -s http://localhost:4040/api/tunnels | python3 -c \\\n",
    "    \"import sys, json; print(json.load(sys.stdin)['tunnels'][0]['public_url'])\""
   ]
  },
  {
   "cell_type": "code",
   "execution_count": 4,
   "metadata": {
    "colab": {
     "base_uri": "https://localhost:8080/",
     "height": 445
    },
    "colab_type": "code",
    "id": "nt2zUQvOrMmv",
    "outputId": "55075661-05da-4d3b-9100-3fa8052c98b0"
   },
   "outputs": [
    {
     "name": "stdout",
     "output_type": "stream",
     "text": [
      "--2019-02-09 23:49:46--  https://www.dropbox.com/s/s2j0nzgw0oe7h8o/Universal%20Dependencies%202.3.zip\n",
      "Translacja www.dropbox.com (www.dropbox.com)... 162.125.70.1\n",
      "Łączenie się z www.dropbox.com (www.dropbox.com)|162.125.70.1|:443... połączono.\n",
      "Żądanie HTTP wysłano, oczekiwanie na odpowiedź... 301 Moved Permanently\n",
      "Lokalizacja: /s/raw/s2j0nzgw0oe7h8o/Universal%20Dependencies%202.3.zip [podążanie]\n",
      "--2019-02-09 23:49:47--  https://www.dropbox.com/s/raw/s2j0nzgw0oe7h8o/Universal%20Dependencies%202.3.zip\n",
      "Ponowne użycie połączenia do www.dropbox.com:443.\n",
      "Żądanie HTTP wysłano, oczekiwanie na odpowiedź... 302 Found\n",
      "Lokalizacja: https://ucd7a250ec2dab3e1833fdd4f1f2.dl.dropboxusercontent.com/cd/0/inline/AbDlBZh-971wq3y23g9p8Q6JjQxRqtr-bTjW4EYgHuKI5W0N7qaUVwGAislyEWEZKFOmrqqSkn45J82Ucs4MhPuKtxvqnOPAjv7WsjZaM5RBSA/file# [podążanie]\n",
      "--2019-02-09 23:49:47--  https://ucd7a250ec2dab3e1833fdd4f1f2.dl.dropboxusercontent.com/cd/0/inline/AbDlBZh-971wq3y23g9p8Q6JjQxRqtr-bTjW4EYgHuKI5W0N7qaUVwGAislyEWEZKFOmrqqSkn45J82Ucs4MhPuKtxvqnOPAjv7WsjZaM5RBSA/file\n",
      "Translacja ucd7a250ec2dab3e1833fdd4f1f2.dl.dropboxusercontent.com (ucd7a250ec2dab3e1833fdd4f1f2.dl.dropboxusercontent.com)... 162.125.70.6\n",
      "Łączenie się z ucd7a250ec2dab3e1833fdd4f1f2.dl.dropboxusercontent.com (ucd7a250ec2dab3e1833fdd4f1f2.dl.dropboxusercontent.com)|162.125.70.6|:443... połączono.\n",
      "Żądanie HTTP wysłano, oczekiwanie na odpowiedź... 302 FOUND\n",
      "Lokalizacja: /cd/0/inline2/AbCXv7KhdWXJJeMIzd9TRcuMSh6WS_JnrfM9nnwL3gTZTHOL5tmW22JVnu09MC-UKNRze_POIWXtHsd3LnhEW2AwjjlbhTKm9zYCApzJll-C2OoQZ6mq0xoxVdVrmvSaYSnD_6AsvrrA8NTkVl7CiW6ZuZM2LPI521IWBAfc7j8tJH6-5Bf96QlwrEUQ2YPbdtwVmITd9Jz3eNueJuhe8NJy7IKgYg1pzJ1YChAeMuA_w_ir-kmYGh0MFgIV1uNV18ct7azpIx9-GeuTe-92ujMxYdIaI6Vh0pNYKgoMTlj0E6QQa_ZHR9FjX8yrFPB_F7_zmdwejlnX3UySbXzuG6S3/file [podążanie]\n",
      "--2019-02-09 23:49:48--  https://ucd7a250ec2dab3e1833fdd4f1f2.dl.dropboxusercontent.com/cd/0/inline2/AbCXv7KhdWXJJeMIzd9TRcuMSh6WS_JnrfM9nnwL3gTZTHOL5tmW22JVnu09MC-UKNRze_POIWXtHsd3LnhEW2AwjjlbhTKm9zYCApzJll-C2OoQZ6mq0xoxVdVrmvSaYSnD_6AsvrrA8NTkVl7CiW6ZuZM2LPI521IWBAfc7j8tJH6-5Bf96QlwrEUQ2YPbdtwVmITd9Jz3eNueJuhe8NJy7IKgYg1pzJ1YChAeMuA_w_ir-kmYGh0MFgIV1uNV18ct7azpIx9-GeuTe-92ujMxYdIaI6Vh0pNYKgoMTlj0E6QQa_ZHR9FjX8yrFPB_F7_zmdwejlnX3UySbXzuG6S3/file\n",
      "Ponowne użycie połączenia do ucd7a250ec2dab3e1833fdd4f1f2.dl.dropboxusercontent.com:443.\n",
      "Żądanie HTTP wysłano, oczekiwanie na odpowiedź... 200 OK\n",
      "Długość: 351514481 (335M) [application/zip]\n",
      "Zapis do: `Universal Dependencies 2.3.zip'\n",
      "\n",
      "Universal Dependenc 100%[===================>] 335,23M  2,55MB/s     w 3m 17s  \n",
      "\n",
      "2019-02-09 23:53:06 (1,70 MB/s) - zapisano `Universal Dependencies 2.3.zip' [351514481/351514481]\n",
      "\n"
     ]
    }
   ],
   "source": [
    "! wget https://www.dropbox.com/s/s2j0nzgw0oe7h8o/Universal%20Dependencies%202.3.zip"
   ]
  },
  {
   "cell_type": "code",
   "execution_count": 5,
   "metadata": {
    "colab": {
     "base_uri": "https://localhost:8080/",
     "height": 122
    },
    "colab_type": "code",
    "id": "yD5hIFEz1y8d",
    "outputId": "7e826e3a-3d79-4038-9e5f-0a0e6557d7aa"
   },
   "outputs": [
    {
     "name": "stdout",
     "output_type": "stream",
     "text": [
      "Archive:  Universal Dependencies 2.3.zip\n",
      "  inflating: ud-treebanks-v2.3.tgz   \n",
      "  inflating: ud-documentation-v2.3.tgz  \n",
      "  inflating: ud-tools-v2.3.tgz       \n"
     ]
    }
   ],
   "source": [
    "! unzip 'Universal Dependencies 2.3.zip'\n",
    "! tar -xf 'ud-treebanks-v2.3.tgz'\n",
    "! tar -xf 'ud-tools-v2.3.tgz'\n",
    "\n",
    "! rm 'Universal Dependencies 2.3.zip'\n",
    "! rm 'ud-treebanks-v2.3.tgz' 'ud-tools-v2.3.tgz' 'ud-documentation-v2.3.tgz'"
   ]
  },
  {
   "cell_type": "code",
   "execution_count": 27,
   "metadata": {
    "colab": {
     "base_uri": "https://localhost:8080/",
     "height": 68
    },
    "colab_type": "code",
    "id": "WBNIGR0Y6Imm",
    "outputId": "34de127b-348d-4143-d62b-83f909c9c366"
   },
   "outputs": [
    {
     "name": "stdout",
     "output_type": "stream",
     "text": [
      "encoders.py  mst.py\tREADME.md\t  ud-treebanks-v2.3\n",
      "main.py      ngrok\trequirements.txt  utils.py\n",
      "models.py    parser.py\tud-tools-v2.3\n"
     ]
    }
   ],
   "source": [
    "! ls"
   ]
  },
  {
   "cell_type": "code",
   "execution_count": 21,
   "metadata": {},
   "outputs": [],
   "source": [
    "from IPython.core.debugger import set_trace"
   ]
  },
  {
   "cell_type": "code",
   "execution_count": 22,
   "metadata": {
    "colab": {
     "base_uri": "https://localhost:8080/",
     "height": 2003
    },
    "colab_type": "code",
    "id": "Hj5zKr-I8SrX",
    "outputId": "61e26ae3-7f86-49bb-c534-6d87eea67b6e"
   },
   "outputs": [
    {
     "name": "stdout",
     "output_type": "stream",
     "text": [
      "--Return--\n",
      "None\n",
      "> \u001b[0;32m<ipython-input-22-eea49ea17f5a>\u001b[0m(1)\u001b[0;36m<module>\u001b[0;34m()\u001b[0m\n",
      "\u001b[0;32m----> 1 \u001b[0;31m\u001b[0mset_trace\u001b[0m\u001b[0;34m(\u001b[0m\u001b[0;34m)\u001b[0m\u001b[0;34m\u001b[0m\u001b[0;34m\u001b[0m\u001b[0m\n",
      "\u001b[0m\u001b[0;32m      2 \u001b[0;31m\u001b[0;34m\u001b[0m\u001b[0m\n",
      "\u001b[0m\u001b[0;32m      3 \u001b[0;31m\u001b[0mget_ipython\u001b[0m\u001b[0;34m(\u001b[0m\u001b[0;34m)\u001b[0m\u001b[0;34m.\u001b[0m\u001b[0msystem\u001b[0m\u001b[0;34m(\u001b[0m\u001b[0;34m' python main.py    --mode autotrain    --train tmp/ud-treebanks-v2.3/UD_Polish-LFG/pl_lfg-ud-train.conllu    --valid tmp/ud-treebanks-v2.3/UD_Polish-LFG/pl_lfg-ud-train.conllu    --embed tmp/wiki.simple.vec    --model model_name.pkl    --force_trees'\u001b[0m\u001b[0;34m)\u001b[0m\u001b[0;34m\u001b[0m\u001b[0;34m\u001b[0m\u001b[0m\n",
      "\u001b[0m\n",
      "ipdb> \n",
      "ipdb> go\n",
      "*** NameError: name 'go' is not defined\n",
      "ipdb> go()\n",
      "*** NameError: name 'go' is not defined\n",
      "--KeyboardInterrupt--\n",
      "--KeyboardInterrupt--\n",
      "ipdb> exit()\n"
     ]
    },
    {
     "ename": "BdbQuit",
     "evalue": "",
     "output_type": "error",
     "traceback": [
      "\u001b[0;31m---------------------------------------------------------------------------\u001b[0m",
      "\u001b[0;31mBdbQuit\u001b[0m                                   Traceback (most recent call last)",
      "\u001b[0;32m<ipython-input-22-eea49ea17f5a>\u001b[0m in \u001b[0;36m<module>\u001b[0;34m\u001b[0m\n\u001b[0;32m----> 1\u001b[0;31m \u001b[0mset_trace\u001b[0m\u001b[0;34m(\u001b[0m\u001b[0;34m)\u001b[0m\u001b[0;34m\u001b[0m\u001b[0;34m\u001b[0m\u001b[0m\n\u001b[0m\u001b[1;32m      2\u001b[0m \u001b[0;34m\u001b[0m\u001b[0m\n\u001b[1;32m      3\u001b[0m \u001b[0mget_ipython\u001b[0m\u001b[0;34m(\u001b[0m\u001b[0;34m)\u001b[0m\u001b[0;34m.\u001b[0m\u001b[0msystem\u001b[0m\u001b[0;34m(\u001b[0m\u001b[0;34m' python main.py    --mode autotrain    --train tmp/ud-treebanks-v2.3/UD_Polish-LFG/pl_lfg-ud-train.conllu    --valid tmp/ud-treebanks-v2.3/UD_Polish-LFG/pl_lfg-ud-train.conllu    --embed tmp/wiki.simple.vec    --model model_name.pkl    --force_trees'\u001b[0m\u001b[0;34m)\u001b[0m\u001b[0;34m\u001b[0m\u001b[0;34m\u001b[0m\u001b[0m\n",
      "\u001b[0;32m/Library/Frameworks/Python.framework/Versions/3.6/lib/python3.6/bdb.py\u001b[0m in \u001b[0;36mtrace_dispatch\u001b[0;34m(self, frame, event, arg)\u001b[0m\n\u001b[1;32m     53\u001b[0m             \u001b[0;32mreturn\u001b[0m \u001b[0mself\u001b[0m\u001b[0;34m.\u001b[0m\u001b[0mdispatch_call\u001b[0m\u001b[0;34m(\u001b[0m\u001b[0mframe\u001b[0m\u001b[0;34m,\u001b[0m \u001b[0marg\u001b[0m\u001b[0;34m)\u001b[0m\u001b[0;34m\u001b[0m\u001b[0;34m\u001b[0m\u001b[0m\n\u001b[1;32m     54\u001b[0m         \u001b[0;32mif\u001b[0m \u001b[0mevent\u001b[0m \u001b[0;34m==\u001b[0m \u001b[0;34m'return'\u001b[0m\u001b[0;34m:\u001b[0m\u001b[0;34m\u001b[0m\u001b[0;34m\u001b[0m\u001b[0m\n\u001b[0;32m---> 55\u001b[0;31m             \u001b[0;32mreturn\u001b[0m \u001b[0mself\u001b[0m\u001b[0;34m.\u001b[0m\u001b[0mdispatch_return\u001b[0m\u001b[0;34m(\u001b[0m\u001b[0mframe\u001b[0m\u001b[0;34m,\u001b[0m \u001b[0marg\u001b[0m\u001b[0;34m)\u001b[0m\u001b[0;34m\u001b[0m\u001b[0;34m\u001b[0m\u001b[0m\n\u001b[0m\u001b[1;32m     56\u001b[0m         \u001b[0;32mif\u001b[0m \u001b[0mevent\u001b[0m \u001b[0;34m==\u001b[0m \u001b[0;34m'exception'\u001b[0m\u001b[0;34m:\u001b[0m\u001b[0;34m\u001b[0m\u001b[0;34m\u001b[0m\u001b[0m\n\u001b[1;32m     57\u001b[0m             \u001b[0;32mreturn\u001b[0m \u001b[0mself\u001b[0m\u001b[0;34m.\u001b[0m\u001b[0mdispatch_exception\u001b[0m\u001b[0;34m(\u001b[0m\u001b[0mframe\u001b[0m\u001b[0;34m,\u001b[0m \u001b[0marg\u001b[0m\u001b[0;34m)\u001b[0m\u001b[0;34m\u001b[0m\u001b[0;34m\u001b[0m\u001b[0m\n",
      "\u001b[0;32m/Library/Frameworks/Python.framework/Versions/3.6/lib/python3.6/bdb.py\u001b[0m in \u001b[0;36mdispatch_return\u001b[0;34m(self, frame, arg)\u001b[0m\n\u001b[1;32m     97\u001b[0m             \u001b[0;32mfinally\u001b[0m\u001b[0;34m:\u001b[0m\u001b[0;34m\u001b[0m\u001b[0;34m\u001b[0m\u001b[0m\n\u001b[1;32m     98\u001b[0m                 \u001b[0mself\u001b[0m\u001b[0;34m.\u001b[0m\u001b[0mframe_returning\u001b[0m \u001b[0;34m=\u001b[0m \u001b[0;32mNone\u001b[0m\u001b[0;34m\u001b[0m\u001b[0;34m\u001b[0m\u001b[0m\n\u001b[0;32m---> 99\u001b[0;31m             \u001b[0;32mif\u001b[0m \u001b[0mself\u001b[0m\u001b[0;34m.\u001b[0m\u001b[0mquitting\u001b[0m\u001b[0;34m:\u001b[0m \u001b[0;32mraise\u001b[0m \u001b[0mBdbQuit\u001b[0m\u001b[0;34m\u001b[0m\u001b[0;34m\u001b[0m\u001b[0m\n\u001b[0m\u001b[1;32m    100\u001b[0m             \u001b[0;31m# The user issued a 'next' or 'until' command.\u001b[0m\u001b[0;34m\u001b[0m\u001b[0;34m\u001b[0m\u001b[0;34m\u001b[0m\u001b[0m\n\u001b[1;32m    101\u001b[0m             \u001b[0;32mif\u001b[0m \u001b[0mself\u001b[0m\u001b[0;34m.\u001b[0m\u001b[0mstopframe\u001b[0m \u001b[0;32mis\u001b[0m \u001b[0mframe\u001b[0m \u001b[0;32mand\u001b[0m \u001b[0mself\u001b[0m\u001b[0;34m.\u001b[0m\u001b[0mstoplineno\u001b[0m \u001b[0;34m!=\u001b[0m \u001b[0;34m-\u001b[0m\u001b[0;36m1\u001b[0m\u001b[0;34m:\u001b[0m\u001b[0;34m\u001b[0m\u001b[0;34m\u001b[0m\u001b[0m\n",
      "\u001b[0;31mBdbQuit\u001b[0m: "
     ]
    }
   ],
   "source": [
    "set_trace()\n",
    "\n",
    "! python main.py \\\n",
    "  --mode autotrain \\\n",
    "  --train tmp/ud-treebanks-v2.3/UD_Polish-LFG/pl_lfg-ud-train.conllu \\\n",
    "  --valid tmp/ud-treebanks-v2.3/UD_Polish-LFG/pl_lfg-ud-train.conllu \\\n",
    "  --embed tmp/wiki.simple.vec \\\n",
    "  --model model_name.pkl \\\n",
    "  --force_trees"
   ]
  },
  {
   "cell_type": "code",
   "execution_count": 31,
   "metadata": {
    "colab": {
     "base_uri": "https://localhost:8080/",
     "height": 204
    },
    "colab_type": "code",
    "id": "37Yqx8juAGea",
    "outputId": "3f13b10f-905b-45e0-abff-46a630638785"
   },
   "outputs": [
    {
     "name": "stdout",
     "output_type": "stream",
     "text": [
      "--2019-02-09 21:19:43--  https://dl.fbaipublicfiles.com/fasttext/vectors-crawl/cc.pl.300.vec.gz\n",
      "Resolving dl.fbaipublicfiles.com (dl.fbaipublicfiles.com)... 104.20.6.166, 104.20.22.166, 2606:4700:10::6814:6a6, ...\n",
      "Connecting to dl.fbaipublicfiles.com (dl.fbaipublicfiles.com)|104.20.6.166|:443... connected.\n",
      "HTTP request sent, awaiting response... 200 OK\n",
      "Length: 1272639217 (1.2G) [binary/octet-stream]\n",
      "Saving to: ‘cc.pl.300.vec.gz’\n",
      "\n",
      "cc.pl.300.vec.gz    100%[===================>]   1.18G  37.6MB/s    in 33s     \n",
      "\n",
      "2019-02-09 21:20:17 (37.0 MB/s) - ‘cc.pl.300.vec.gz’ saved [1272639217/1272639217]\n",
      "\n"
     ]
    }
   ],
   "source": [
    "! wget https://dl.fbaipublicfiles.com/fasttext/vectors-crawl/cc.pl.300.vec.gz"
   ]
  },
  {
   "cell_type": "code",
   "execution_count": 32,
   "metadata": {
    "colab": {
     "base_uri": "https://localhost:8080/",
     "height": 68
    },
    "colab_type": "code",
    "id": "IllzfW9yAP7n",
    "outputId": "4c0b1e13-a848-4d17-d0dc-bbbfb4c3579e"
   },
   "outputs": [
    {
     "name": "stdout",
     "output_type": "stream",
     "text": [
      "cc.pl.300.vec.gz  models.py  parser.py\t       ud-tools-v2.3\n",
      "encoders.py\t  mst.py     README.md\t       ud-treebanks-v2.3\n",
      "main.py\t\t  ngrok      requirements.txt  utils.py\n"
     ]
    }
   ],
   "source": [
    "! ls"
   ]
  },
  {
   "cell_type": "code",
   "execution_count": 0,
   "metadata": {
    "colab": {},
    "colab_type": "code",
    "id": "8aEm1t_nIjMU"
   },
   "outputs": [],
   "source": [
    "! gzip -d cc.pl.300.vec.gz"
   ]
  },
  {
   "cell_type": "code",
   "execution_count": 37,
   "metadata": {
    "colab": {
     "base_uri": "https://localhost:8080/",
     "height": 68
    },
    "colab_type": "code",
    "id": "gcrxq5qLIn2K",
    "outputId": "33b6e00d-47d7-4bbe-d9fb-a7733830de5d"
   },
   "outputs": [
    {
     "name": "stdout",
     "output_type": "stream",
     "text": [
      "cc.pl.300.vec  models.py  parser.py\t    ud-tools-v2.3\n",
      "encoders.py    mst.py\t  README.md\t    ud-treebanks-v2.3\n",
      "main.py        ngrok\t  requirements.txt  utils.py\n"
     ]
    }
   ],
   "source": [
    "! ls"
   ]
  },
  {
   "cell_type": "code",
   "execution_count": 0,
   "metadata": {
    "colab": {},
    "colab_type": "code",
    "id": "N0mVJ-WqJERn"
   },
   "outputs": [],
   "source": []
  }
 ],
 "metadata": {
  "accelerator": "GPU",
  "colab": {
   "collapsed_sections": [],
   "name": "combo.ipynb",
   "provenance": [],
   "version": "0.3.2"
  },
  "kernelspec": {
   "display_name": "Python 3",
   "language": "python",
   "name": "python3"
  },
  "language_info": {
   "codemirror_mode": {
    "name": "ipython",
    "version": 3
   },
   "file_extension": ".py",
   "mimetype": "text/x-python",
   "name": "python",
   "nbconvert_exporter": "python",
   "pygments_lexer": "ipython3",
   "version": "3.6.8"
  }
 },
 "nbformat": 4,
 "nbformat_minor": 1
}
